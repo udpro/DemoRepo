{
 "cells": [
  {
   "cell_type": "code",
   "execution_count": 3,
   "id": "7d61a061",
   "metadata": {},
   "outputs": [
    {
     "name": "stdout",
     "output_type": "stream",
     "text": [
      "hello world\n"
     ]
    }
   ],
   "source": [
    "print('hello world')"
   ]
  },
  {
   "cell_type": "code",
   "execution_count": 5,
   "id": "f3963ac8",
   "metadata": {},
   "outputs": [
    {
     "name": "stdout",
     "output_type": "stream",
     "text": [
      "HELLO DATATRAINED\n"
     ]
    }
   ],
   "source": [
    "print(\"HELLO DATATRAINED\")"
   ]
  },
  {
   "cell_type": "code",
   "execution_count": 7,
   "id": "6cf81d74",
   "metadata": {},
   "outputs": [
    {
     "name": "stdout",
     "output_type": "stream",
     "text": [
      "UMESH\n",
      "Deshmukh\n",
      "Umesh\n"
     ]
    }
   ],
   "source": [
    "first='UMESH'\n",
    "last='Deshmukh'\n",
    "myname=\"Umesh\"\n",
    "\n",
    "print(first)\n",
    "print(last)\n",
    "print(myname)\n"
   ]
  },
  {
   "cell_type": "code",
   "execution_count": 15,
   "id": "f1b95f7f",
   "metadata": {},
   "outputs": [
    {
     "name": "stdout",
     "output_type": "stream",
     "text": [
      "UMESHDeshmukh\n"
     ]
    }
   ],
   "source": [
    "print(first + last)"
   ]
  },
  {
   "cell_type": "code",
   "execution_count": 18,
   "id": "8bd58384",
   "metadata": {},
   "outputs": [
    {
     "name": "stdout",
     "output_type": "stream",
     "text": [
      "150\n"
     ]
    }
   ],
   "source": [
    "a=90\n",
    "b=10\n",
    "c=50\n",
    "\n",
    "print(a+b+c)"
   ]
  },
  {
   "cell_type": "code",
   "execution_count": 19,
   "id": "d1655c80",
   "metadata": {},
   "outputs": [
    {
     "name": "stdout",
     "output_type": "stream",
     "text": [
      "The sum of a , b and c is  150\n"
     ]
    }
   ],
   "source": [
    "print('The sum of a , b and c is ', a+b+c)"
   ]
  },
  {
   "cell_type": "code",
   "execution_count": null,
   "id": "6071ee1f",
   "metadata": {},
   "outputs": [],
   "source": []
  }
 ],
 "metadata": {
  "kernelspec": {
   "display_name": "Python 3 (ipykernel)",
   "language": "python",
   "name": "python3"
  },
  "language_info": {
   "codemirror_mode": {
    "name": "ipython",
    "version": 3
   },
   "file_extension": ".py",
   "mimetype": "text/x-python",
   "name": "python",
   "nbconvert_exporter": "python",
   "pygments_lexer": "ipython3",
   "version": "3.9.12"
  }
 },
 "nbformat": 4,
 "nbformat_minor": 5
}
